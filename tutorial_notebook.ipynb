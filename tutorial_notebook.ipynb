{
 "cells": [
  {
   "cell_type": "markdown",
   "metadata": {},
   "source": [
    "**SCM sampler tutorial**\n",
    "\n",
    "*Author*: J.-G. Young <jean-gabriel.young.1@ulaval.ca> <br/>\n",
    "*Date*: May 2017.\n",
    "\n",
    "\n",
    "\n"
   ]
  },
  {
   "cell_type": "markdown",
   "metadata": {},
   "source": [
    "-----------------"
   ]
  },
  {
   "cell_type": "markdown",
   "metadata": {},
   "source": [
    "So let's assume that you have managed to compile the source (check the [README](README.md) file otherwise). We will now go over 2 examples of what can be done with the sampler.\n",
    "\n",
    "First, let's import some required modules: `subprocess` (to call the C++ sampler from `python`), `networkx` and `pyplot`."
   ]
  },
  {
   "cell_type": "code",
   "execution_count": 1,
   "metadata": {
    "collapsed": true
   },
   "outputs": [],
   "source": [
    "import subprocess as sp\n",
    "import networkx as nx\n",
    "import matplotlib.pyplot as plt\n",
    "import seaborn as sns  # for aesthetic\n",
    "%matplotlib inline\n",
    "sns.set_style('ticks')"
   ]
  },
  {
   "cell_type": "markdown",
   "metadata": {},
   "source": [
    "# Rejection sampler"
   ]
  },
  {
   "cell_type": "markdown",
   "metadata": {},
   "source": [
    "We will begin by sampling from a trivial model: $\\mathrm{SCM}(\\mathbf{d},\\mathbf{s})$ with $\\mathbf{d}=(2,2,2,1,1)$ and $\\mathbf{s}=(3,3,2)$, which has 12 non-isomorphic instances, shown below:\n",
    "\n",
    "![](img/simple_instances.png)\n",
    "\n",
    "The support is not very constrained, meaning that the rejection sampler works well:"
   ]
  },
  {
   "cell_type": "code",
   "execution_count": 2,
   "metadata": {
    "collapsed": true
   },
   "outputs": [],
   "source": [
    "with open('/tmp/degrees.txt', 'w') as f:\n",
    "    print('2 2 1 2 1', file=f)\n",
    "with open('/tmp/sizes.txt', 'w') as f:\n",
    "    print('3 3 2', file=f)"
   ]
  },
  {
   "cell_type": "code",
   "execution_count": 3,
   "metadata": {},
   "outputs": [
    {
     "name": "stdout",
     "output_type": "stream",
     "text": [
      "# Sample:\n",
      "0 1 4 \n",
      "0 1 3 \n",
      "2 3 \n",
      "\n"
     ]
    }
   ],
   "source": [
    "command = ['bin/rejection_sampler', '--degree_seq_file=/tmp/degrees.txt', '--size_seq_file=/tmp/sizes.txt', \n",
    "           '--seed=0']  # for reproductibility\n",
    "proc = sp.run(command, stdout=sp.PIPE)\n",
    "print(proc.stdout.decode())"
   ]
  },
  {
   "cell_type": "markdown",
   "metadata": {},
   "source": [
    "In this case, the sampler generated instance # 8 (node identifiers are off by one, since the sampler represents nodes as 0 indexed integers).\n",
    "\n",
    "To verify that the sampler indeed generates instance uniformly, we will compute the distribution of the length of the cycles in the bipartite graph representation of the simplicial complexes, using `networkx`. It is enough to verify the validity of the sampler, since there are only two possibilities:\n",
    "\n",
    "![](img/shape.png)\n",
    "\n",
    "i.e., one cycle of length 4 or one cycle of length 6, represented with equal probability (6 out of 12 instances have a cycle of length 4, the rest have a cycle of length 6)."
   ]
  },
  {
   "cell_type": "code",
   "execution_count": 5,
   "metadata": {
    "collapsed": true
   },
   "outputs": [],
   "source": [
    "def facet_list_to_graph(facet_list):\n",
    "    \"\"\"Convert a facet list to a bipartite graph\"\"\"\n",
    "    g = nx.Graph()\n",
    "    for f, facet in enumerate(facet_list):\n",
    "        for v in facet:\n",
    "            g.add_edge('v' + str(v), 'f' + str(f))  # differentiate node types\n",
    "    return g"
   ]
  },
  {
   "cell_type": "code",
   "execution_count": 1,
   "metadata": {
    "collapsed": true
   },
   "outputs": [],
   "source": [
    "def rejection_sampling(degree_seq, size_seq, seed=0):\n",
    "    \"\"\"Wrapper around the rejection sampler.\"\"\"\n",
    "    # Write sequence to files\n",
    "    with open('/tmp/degrees.txt', 'w') as f:\n",
    "        print(\" \".join([str(x) for x in degree_seq]), file=f)\n",
    "    with open('/tmp/sizes.txt', 'w') as f:\n",
    "        print(\" \".join([str(x) for x in size_seq]), file=f)\n",
    "    # Call sampler with subprocess\n",
    "    command = ['bin/rejection_sampler', '--degree_seq_file=/tmp/degrees.txt', '--size_seq_file=/tmp/sizes.txt', '-d', str(seed)]\n",
    "    proc = sp.run(command, stdout=sp.PIPE)\n",
    "    # Read output as a facet list\n",
    "    facet_list = []\n",
    "    for line in proc.stdout.decode().split(\"\\n\"):\n",
    "        if line.find(\"#\") == -1 and line != \"\\n\":\n",
    "            facet_list.append([int(x) for x in line.strip().split()])\n",
    "    return facet_list[:-1]"
   ]
  },
  {
   "cell_type": "code",
   "execution_count": 7,
   "metadata": {},
   "outputs": [
    {
     "name": "stdout",
     "output_type": "stream",
     "text": [
      "Number of cycle of length 4: 96\n",
      "Number of cycle of length 6: 104\n"
     ]
    }
   ],
   "source": [
    "num_iter = 200\n",
    "\n",
    "lengths = []\n",
    "for i in range(num_iter):\n",
    "    g = facet_list_to_graph(rejection_sampling([2,2,1,2,1],[3,3,2],i))\n",
    "    lengths.append(len(nx.cycle_basis(g)[0]))\n",
    "\n",
    "    \n",
    "print(\"Number of cycle of length 4:\", len([x for x in lengths if x == 4]))\n",
    "print(\"Number of cycle of length 6:\", len([x for x in lengths if x == 6]))"
   ]
  },
  {
   "cell_type": "markdown",
   "metadata": {},
   "source": [
    "So the sampler is correct (there are of course random fluctuations around the mean!)."
   ]
  },
  {
   "cell_type": "markdown",
   "metadata": {},
   "source": [
    "# MCMC sampler"
   ]
  },
  {
   "cell_type": "markdown",
   "metadata": {},
   "source": [
    "The MCMC sampler generates multiples instances (efficiently), so we will first need to construct a function that parses its output.\n",
    "\n",
    "For the ensemble used above, the output looks like:"
   ]
  },
  {
   "cell_type": "code",
   "execution_count": 8,
   "metadata": {},
   "outputs": [
    {
     "name": "stdout",
     "output_type": "stream",
     "text": [
      "# Sample:\n",
      "0 1 \n",
      "2 3 4 \n",
      "1 2 3 \n",
      "# Sample:\n",
      "1 2 \n",
      "0 2 3 \n",
      "1 3 4 \n",
      "# Sample:\n",
      "2 3 \n",
      "1 3 4 \n",
      "0 1 2 \n",
      "\n"
     ]
    }
   ],
   "source": [
    "command = ['bin/mcmc_sampler', 'datasets/simple_facet_list.txt', '-t', '3', '--seed=42']\n",
    "proc = sp.run(command, stdout=sp.PIPE)\n",
    "print(proc.stdout.decode())"
   ]
  },
  {
   "cell_type": "markdown",
   "metadata": {},
   "source": [
    "The function below calls the sampler and separates the samples in a list:"
   ]
  },
  {
   "cell_type": "code",
   "execution_count": 9,
   "metadata": {
    "collapsed": true
   },
   "outputs": [],
   "source": [
    "def rejection_sampling(command, seed=0):\n",
    "    # Call sampler with subprocess\n",
    "    proc = sp.run(command, stdout=sp.PIPE)\n",
    "    # Read output as a facet list \n",
    "    facet_list = []\n",
    "    for line in proc.stdout.decode().split(\"\\n\")[1:-1]:\n",
    "        if line.find(\"#\") == 0:\n",
    "            yield facet_list\n",
    "            facet_list = []\n",
    "        else:\n",
    "            facet_list.append([int(x) for x in line.strip().split()])\n",
    "    yield facet_list"
   ]
  },
  {
   "cell_type": "code",
   "execution_count": 10,
   "metadata": {},
   "outputs": [
    {
     "name": "stdout",
     "output_type": "stream",
     "text": [
      "[[0, 1], [2, 3, 4], [1, 2, 3]]\n",
      "[[1, 2], [0, 2, 3], [1, 3, 4]]\n",
      "[[2, 3], [1, 3, 4], [0, 1, 2]]\n"
     ]
    }
   ],
   "source": [
    "# Same command as in cell [8], but parsed:\n",
    "for x in rejection_sampling(command):\n",
    "    print(x)"
   ]
  },
  {
   "cell_type": "markdown",
   "metadata": {},
   "source": [
    "We can now redo the cycle calculation, using the MCMC sampler instead:"
   ]
  },
  {
   "cell_type": "code",
   "execution_count": 11,
   "metadata": {},
   "outputs": [
    {
     "name": "stdout",
     "output_type": "stream",
     "text": [
      "Number of cycle of length 4: 100\n",
      "Number of cycle of length 6: 100\n"
     ]
    }
   ],
   "source": [
    "command = ['bin/mcmc_sampler', 'datasets/simple_facet_list.txt', '-t', str(num_iter), '--seed=0']\n",
    "\n",
    "lengths = []\n",
    "for facet_list in rejection_sampling(command):\n",
    "    g = facet_list_to_graph(facet_list)\n",
    "    lengths.append(len(nx.cycle_basis(g)[0]))\n",
    "\n",
    "    \n",
    "print(\"Number of cycle of length 4:\", len([x for x in lengths if x == 4]))\n",
    "print(\"Number of cycle of length 6:\", len([x for x in lengths if x == 6]))"
   ]
  },
  {
   "cell_type": "markdown",
   "metadata": {},
   "source": [
    "Again, we have a 50/50 split between both outcomes, as expected. Only this time, the sampler is much faster than the first time around"
   ]
  },
  {
   "cell_type": "markdown",
   "metadata": {},
   "source": [
    "Let's finish by looking at a more complex dataset, where the MCMC is actually needed: the [crime simplicial complex](datasets/crime_facet_list.txt).\n",
    "\n",
    "Since there are still few simplicial properties that are easy to compute, we will instead look at a graphical property  in the bipartite graph representation of the pollinator simplicial complex.\n",
    "\n",
    "The distribution of the degree assortativity coefficient is as good as any.\n",
    "\n",
    "First, we compute the coefficient of the real dataset"
   ]
  },
  {
   "cell_type": "code",
   "execution_count": 12,
   "metadata": {
    "collapsed": true
   },
   "outputs": [],
   "source": [
    "crime_facet_list = []\n",
    "with open(\"datasets/crime_facet_list.txt\", 'r') as f:\n",
    "    for l in f:\n",
    "        crime_facet_list.append([int(x) for x in l.strip().split()])"
   ]
  },
  {
   "cell_type": "code",
   "execution_count": 13,
   "metadata": {},
   "outputs": [
    {
     "name": "stdout",
     "output_type": "stream",
     "text": [
      "Real assortativity -0.267639538869\n"
     ]
    }
   ],
   "source": [
    "real = nx.degree_assortativity_coefficient(facet_list_to_graph(crime_facet_list))\n",
    "print(\"Real assortativity\", real)"
   ]
  },
  {
   "cell_type": "markdown",
   "metadata": {},
   "source": [
    "Let's find what the distribution looks like in the randomized ensemble:"
   ]
  },
  {
   "cell_type": "code",
   "execution_count": 16,
   "metadata": {
    "collapsed": true
   },
   "outputs": [],
   "source": [
    "command = ['bin/mcmc_sampler', 'datasets/crime_facet_list.txt', '-t', '500', '--seed=0', '-c', '-b', '500', '-f', '500']\n",
    "# We cheat by giving somewhat short decorrelation times, this is just so that the example runs fast enough\n",
    "coeff = []\n",
    "for facet_list in rejection_sampling(command):\n",
    "    g = facet_list_to_graph(facet_list)\n",
    "    coeff.append(nx.degree_assortativity_coefficient(g))\n"
   ]
  },
  {
   "cell_type": "code",
   "execution_count": 17,
   "metadata": {},
   "outputs": [
    {
     "data": {
      "text/plain": [
       "<matplotlib.text.Text at 0x7f171bb046a0>"
      ]
     },
     "execution_count": 17,
     "metadata": {},
     "output_type": "execute_result"
    },
    {
     "data": {
      "image/png": "[encoded data removed]",
      "text/plain": [
       "<matplotlib.figure.Figure at 0x7f171ba7f208>"
      ]
     },
     "metadata": {},
     "output_type": "display_data"
    }
   ],
   "source": [
    "plt.figure(figsize=(8,4))\n",
    "sns.distplot(coeff, norm_hist=True)\n",
    "plt.plot([real, real], [0,30], color=\"#ff5b1e\")\n",
    "plt.text(-0.29,25, 'Real system', color=\"#ff5b1e\")\n",
    "plt.ylim(0,30)\n",
    "plt.xlabel('Degree assortativity')\n",
    "plt.ylabel('Histogram')\n"
   ]
  },
  {
   "cell_type": "markdown",
   "metadata": {},
   "source": [
    "The assortativity of the real system therefore seems to be typical. \n",
    "\n",
    "**Unrelated note**: The fact that we are looking at a bipartite representation of a simplicial ensemble more or less explain this behavior, so there is nothing worthwhile here."
   ]
  },
  {
   "cell_type": "markdown",
   "metadata": {},
   "source": [
    "# Further information: \n",
    "\n",
    "\"*Construction of and efficient sampling from the simplicial configuration model*\"<br/>\n",
    "[J.-G. Young](http://jgyoung.ca), [G. Petri](https://github.com/lordgrilo), F. Vaccarino, and [A. Patania](https://github.com/alpatania) (2017)<br/>\n",
    "Phys. Rev. E, **96**, 032312 (2017)\n\n",
    "Read it on: [arXiv](https://arxiv.org/abs/1705.10298) | [Phys. Rev. E](https://doi.org/10.1103/PhysRevE.96.032312)\n"
   ]
  }
 ],
 "metadata": {
  "kernelspec": {
   "display_name": "Python 3",
   "language": "python",
   "name": "python3"
  },
  "language_info": {
   "codemirror_mode": {
    "name": "ipython",
    "version": 3
   },
   "file_extension": ".py",
   "mimetype": "text/x-python",
   "name": "python",
   "nbconvert_exporter": "python",
   "pygments_lexer": "ipython3",
   "version": "3.6.1"
  }
 },
 "nbformat": 4,
 "nbformat_minor": 2
}
